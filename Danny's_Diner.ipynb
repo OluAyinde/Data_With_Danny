{
 "cells": [
  {
   "cell_type": "markdown",
   "id": "ee6d6295",
   "metadata": {},
   "source": [
    "## DANNY'S DINER SQL CHALLENGE\n",
    "This is a sql project created by [Danny Ma](\"https://www.linkedin.com/in/datawithdanny/\") to help individuals emerging into the data scene. From my view, it helps establish the foundational knowledge of sql while testing and developing logical problem skills.\n",
    "I have chosen to do it in Python because it highlights how you can create a database on your system to allow for continuous use.\n",
    "\n",
    "To get access to this and other of Danny's projects - [8 Week SQL Challenge](\"https://8weeksqlchallenge.com/\").\n",
    "\n",
    "Before getting started, I would also recommend installing \"ipython-sql\". This allows you use the 'jupyter magic' function to interact with your relational database."
   ]
  },
  {
   "cell_type": "markdown",
   "id": "79f0a495",
   "metadata": {},
   "source": [
    "### Importing Libraries"
   ]
  },
  {
   "cell_type": "code",
   "execution_count": 1,
   "id": "26ee09d1",
   "metadata": {},
   "outputs": [],
   "source": [
    "import sqlite3 as sql\n",
    "import pandas as pd\n",
    "import warnings\n",
    "warnings.filterwarnings(\"ignore\")"
   ]
  },
  {
   "cell_type": "markdown",
   "id": "e479e078",
   "metadata": {},
   "source": [
    "### Creating Database, Table & Inserting Values into Table"
   ]
  },
  {
   "cell_type": "code",
   "execution_count": 2,
   "id": "4d998388",
   "metadata": {},
   "outputs": [],
   "source": [
    "conn = sql.connect('dannys_diner.db')\n",
    "c = conn.cursor()\n",
    "\n",
    "def create_table():\n",
    "    c.execute('CREATE TABLE IF NOT EXISTS sales (customer_id TEXT,order_date TEXT,product_id INT)')\n",
    "    c.execute('CREATE TABLE IF NOT EXISTS menu (product_id INT,product_name TEXT,price REAL)')\n",
    "    c.execute('CREATE TABLE IF NOT EXISTS members (customer_id TEXT,join_date TEXT)')\n",
    "              \n",
    "def data_entry():\n",
    "    c.execute(\"INSERT INTO sales VALUES ('A', '2021-01-01', 1)\")\n",
    "    c.execute(\"INSERT INTO sales VALUES ('A', '2021-01-01', 2)\")\n",
    "    c.execute(\"INSERT INTO sales VALUES ('A', '2021-01-07', 2)\")\n",
    "    c.execute(\"INSERT INTO sales VALUES ('A', '2021-01-10', 3)\")\n",
    "    c.execute(\"INSERT INTO sales VALUES ('A', '2021-01-11', 3)\")\n",
    "    c.execute(\"INSERT INTO sales VALUES ('A', '2021-01-11', 3)\")\n",
    "    c.execute(\"INSERT INTO sales VALUES ('B', '2021-01-01', 2)\")\n",
    "    c.execute(\"INSERT INTO sales VALUES ('B', '2021-01-02', 2)\")\n",
    "    c.execute(\"INSERT INTO sales VALUES ('B', '2021-01-04', 1)\")\n",
    "    c.execute(\"INSERT INTO sales VALUES ('B', '2021-01-11', 1)\")\n",
    "    c.execute(\"INSERT INTO sales VALUES ('B', '2021-01-16', 3)\")\n",
    "    c.execute(\"INSERT INTO sales VALUES ('B', '2021-02-01', 3)\")\n",
    "    c.execute(\"INSERT INTO sales VALUES ('C', '2021-01-01', 3)\")\n",
    "    c.execute(\"INSERT INTO sales VALUES ('C', '2021-01-01', 3)\")\n",
    "    c.execute(\"INSERT INTO sales VALUES ('C', '2021-01-07', 3)\")\n",
    "    \n",
    "    c.execute(\"INSERT INTO menu VALUES (1, 'sushi', 10)\")\n",
    "    c.execute(\"INSERT INTO menu VALUES (2, 'curry', 15)\")\n",
    "    c.execute(\"INSERT INTO menu VALUES (3, 'ramen', 12)\")\n",
    "              \n",
    "    c.execute(\"INSERT INTO members VALUES ('A', '2021-01-07')\")\n",
    "    c.execute(\"INSERT INTO members VALUES ('B', '2021-01-09')\")\n",
    "    \n",
    "    conn.commit()\n",
    "    conn.close()\n",
    "    \n",
    "create_table()\n",
    "data_entry()"
   ]
  },
  {
   "cell_type": "code",
   "execution_count": 3,
   "id": "def97457",
   "metadata": {},
   "outputs": [],
   "source": [
    "%%capture\n",
    "%load_ext sql\n",
    "%sql sqlite:///dannys_diner.db"
   ]
  },
  {
   "cell_type": "code",
   "execution_count": 4,
   "id": "62917ef3",
   "metadata": {},
   "outputs": [
    {
     "name": "stdout",
     "output_type": "stream",
     "text": [
      " * sqlite:///dannys_diner.db\n",
      "Done.\n"
     ]
    },
    {
     "data": {
      "text/html": [
       "<table>\n",
       "    <tr>\n",
       "        <th>customer_id</th>\n",
       "        <th>order_date</th>\n",
       "        <th>product_id</th>\n",
       "    </tr>\n",
       "    <tr>\n",
       "        <td>A</td>\n",
       "        <td>2021-01-01</td>\n",
       "        <td>1</td>\n",
       "    </tr>\n",
       "    <tr>\n",
       "        <td>A</td>\n",
       "        <td>2021-01-01</td>\n",
       "        <td>2</td>\n",
       "    </tr>\n",
       "    <tr>\n",
       "        <td>A</td>\n",
       "        <td>2021-01-07</td>\n",
       "        <td>2</td>\n",
       "    </tr>\n",
       "    <tr>\n",
       "        <td>A</td>\n",
       "        <td>2021-01-10</td>\n",
       "        <td>3</td>\n",
       "    </tr>\n",
       "    <tr>\n",
       "        <td>A</td>\n",
       "        <td>2021-01-11</td>\n",
       "        <td>3</td>\n",
       "    </tr>\n",
       "    <tr>\n",
       "        <td>A</td>\n",
       "        <td>2021-01-11</td>\n",
       "        <td>3</td>\n",
       "    </tr>\n",
       "    <tr>\n",
       "        <td>B</td>\n",
       "        <td>2021-01-01</td>\n",
       "        <td>2</td>\n",
       "    </tr>\n",
       "    <tr>\n",
       "        <td>B</td>\n",
       "        <td>2021-01-02</td>\n",
       "        <td>2</td>\n",
       "    </tr>\n",
       "    <tr>\n",
       "        <td>B</td>\n",
       "        <td>2021-01-04</td>\n",
       "        <td>1</td>\n",
       "    </tr>\n",
       "    <tr>\n",
       "        <td>B</td>\n",
       "        <td>2021-01-11</td>\n",
       "        <td>1</td>\n",
       "    </tr>\n",
       "    <tr>\n",
       "        <td>B</td>\n",
       "        <td>2021-01-16</td>\n",
       "        <td>3</td>\n",
       "    </tr>\n",
       "    <tr>\n",
       "        <td>B</td>\n",
       "        <td>2021-02-01</td>\n",
       "        <td>3</td>\n",
       "    </tr>\n",
       "    <tr>\n",
       "        <td>C</td>\n",
       "        <td>2021-01-01</td>\n",
       "        <td>3</td>\n",
       "    </tr>\n",
       "    <tr>\n",
       "        <td>C</td>\n",
       "        <td>2021-01-01</td>\n",
       "        <td>3</td>\n",
       "    </tr>\n",
       "    <tr>\n",
       "        <td>C</td>\n",
       "        <td>2021-01-07</td>\n",
       "        <td>3</td>\n",
       "    </tr>\n",
       "</table>"
      ],
      "text/plain": [
       "[('A', '2021-01-01', 1),\n",
       " ('A', '2021-01-01', 2),\n",
       " ('A', '2021-01-07', 2),\n",
       " ('A', '2021-01-10', 3),\n",
       " ('A', '2021-01-11', 3),\n",
       " ('A', '2021-01-11', 3),\n",
       " ('B', '2021-01-01', 2),\n",
       " ('B', '2021-01-02', 2),\n",
       " ('B', '2021-01-04', 1),\n",
       " ('B', '2021-01-11', 1),\n",
       " ('B', '2021-01-16', 3),\n",
       " ('B', '2021-02-01', 3),\n",
       " ('C', '2021-01-01', 3),\n",
       " ('C', '2021-01-01', 3),\n",
       " ('C', '2021-01-07', 3)]"
      ]
     },
     "execution_count": 4,
     "metadata": {},
     "output_type": "execute_result"
    }
   ],
   "source": [
    "%%sql\n",
    "SELECT \n",
    "* \n",
    "FROM sales;"
   ]
  },
  {
   "cell_type": "code",
   "execution_count": 5,
   "id": "8ad35fb3",
   "metadata": {},
   "outputs": [
    {
     "name": "stdout",
     "output_type": "stream",
     "text": [
      " * sqlite:///dannys_diner.db\n",
      "Done.\n"
     ]
    },
    {
     "data": {
      "text/html": [
       "<table>\n",
       "    <tr>\n",
       "        <th>product_id</th>\n",
       "        <th>product_name</th>\n",
       "        <th>price</th>\n",
       "    </tr>\n",
       "    <tr>\n",
       "        <td>1</td>\n",
       "        <td>sushi</td>\n",
       "        <td>10.0</td>\n",
       "    </tr>\n",
       "    <tr>\n",
       "        <td>2</td>\n",
       "        <td>curry</td>\n",
       "        <td>15.0</td>\n",
       "    </tr>\n",
       "    <tr>\n",
       "        <td>3</td>\n",
       "        <td>ramen</td>\n",
       "        <td>12.0</td>\n",
       "    </tr>\n",
       "</table>"
      ],
      "text/plain": [
       "[(1, 'sushi', 10.0), (2, 'curry', 15.0), (3, 'ramen', 12.0)]"
      ]
     },
     "execution_count": 5,
     "metadata": {},
     "output_type": "execute_result"
    }
   ],
   "source": [
    "%%sql\n",
    "SELECT \n",
    "* \n",
    "FROM menu;"
   ]
  },
  {
   "cell_type": "code",
   "execution_count": 6,
   "id": "ac130af6",
   "metadata": {},
   "outputs": [
    {
     "name": "stdout",
     "output_type": "stream",
     "text": [
      " * sqlite:///dannys_diner.db\n",
      "Done.\n"
     ]
    },
    {
     "data": {
      "text/html": [
       "<table>\n",
       "    <tr>\n",
       "        <th>customer_id</th>\n",
       "        <th>join_date</th>\n",
       "    </tr>\n",
       "    <tr>\n",
       "        <td>A</td>\n",
       "        <td>2021-01-07</td>\n",
       "    </tr>\n",
       "    <tr>\n",
       "        <td>B</td>\n",
       "        <td>2021-01-09</td>\n",
       "    </tr>\n",
       "</table>"
      ],
      "text/plain": [
       "[('A', '2021-01-07'), ('B', '2021-01-09')]"
      ]
     },
     "execution_count": 6,
     "metadata": {},
     "output_type": "execute_result"
    }
   ],
   "source": [
    "%%sql\n",
    "SELECT \n",
    "* \n",
    "FROM members;"
   ]
  },
  {
   "cell_type": "markdown",
   "id": "e1cdd1a7",
   "metadata": {},
   "source": [
    "### Case Study Questions"
   ]
  },
  {
   "cell_type": "markdown",
   "id": "7a9bc427",
   "metadata": {},
   "source": [
    "#### Question 1 - What is the total amount each customer spent at the restaurant?"
   ]
  },
  {
   "cell_type": "code",
   "execution_count": 7,
   "id": "c1afc5d7",
   "metadata": {},
   "outputs": [
    {
     "name": "stdout",
     "output_type": "stream",
     "text": [
      " * sqlite:///dannys_diner.db\n",
      "Done.\n"
     ]
    },
    {
     "data": {
      "text/html": [
       "<table>\n",
       "    <tr>\n",
       "        <th>customer_id</th>\n",
       "        <th>total_spent</th>\n",
       "    </tr>\n",
       "    <tr>\n",
       "        <td>A</td>\n",
       "        <td>76.0</td>\n",
       "    </tr>\n",
       "    <tr>\n",
       "        <td>B</td>\n",
       "        <td>74.0</td>\n",
       "    </tr>\n",
       "    <tr>\n",
       "        <td>C</td>\n",
       "        <td>36.0</td>\n",
       "    </tr>\n",
       "</table>"
      ],
      "text/plain": [
       "[('A', 76.0), ('B', 74.0), ('C', 36.0)]"
      ]
     },
     "execution_count": 7,
     "metadata": {},
     "output_type": "execute_result"
    }
   ],
   "source": [
    "%%sql\n",
    "select s.customer_id, sum(price) total_spent\n",
    "from sales s\n",
    "left join menu m\n",
    "on s.product_id = m.product_id\n",
    "group by s.customer_id;"
   ]
  },
  {
   "cell_type": "markdown",
   "id": "ed2057fe",
   "metadata": {},
   "source": [
    "- Customer `A` spent a total of `$76.0`\n",
    "- Customer `B` spent a total of `$74.0`\n",
    "- Customer `C` spent a total of `$36.0`"
   ]
  },
  {
   "cell_type": "markdown",
   "id": "a83c216d",
   "metadata": {},
   "source": [
    "#### Question 2 - How many days has each customer visited the restaurant?"
   ]
  },
  {
   "cell_type": "code",
   "execution_count": 8,
   "id": "2a99a91a",
   "metadata": {},
   "outputs": [
    {
     "name": "stdout",
     "output_type": "stream",
     "text": [
      " * sqlite:///dannys_diner.db\n",
      "Done.\n"
     ]
    },
    {
     "data": {
      "text/html": [
       "<table>\n",
       "    <tr>\n",
       "        <th>customer_id</th>\n",
       "        <th>days_visited</th>\n",
       "    </tr>\n",
       "    <tr>\n",
       "        <td>A</td>\n",
       "        <td>4</td>\n",
       "    </tr>\n",
       "    <tr>\n",
       "        <td>B</td>\n",
       "        <td>6</td>\n",
       "    </tr>\n",
       "    <tr>\n",
       "        <td>C</td>\n",
       "        <td>2</td>\n",
       "    </tr>\n",
       "</table>"
      ],
      "text/plain": [
       "[('A', 4), ('B', 6), ('C', 2)]"
      ]
     },
     "execution_count": 8,
     "metadata": {},
     "output_type": "execute_result"
    }
   ],
   "source": [
    "%%sql\n",
    "select s.customer_id, count(distinct s.order_date) days_visited\n",
    "from sales s\n",
    "group by s.customer_id;"
   ]
  },
  {
   "cell_type": "markdown",
   "id": "64ef96e1",
   "metadata": {},
   "source": [
    "- Customer `A` has visited the restaurant `4` times\n",
    "- Customer `B` has visited the restaurant `6` times\n",
    "- Customer `C` has visited the restaurant `2` times."
   ]
  },
  {
   "cell_type": "markdown",
   "id": "562fbf54",
   "metadata": {},
   "source": [
    "#### Question 3 - What was the first item from the menu purchased by each customer?"
   ]
  },
  {
   "cell_type": "code",
   "execution_count": 9,
   "id": "95eab477",
   "metadata": {},
   "outputs": [
    {
     "name": "stdout",
     "output_type": "stream",
     "text": [
      " * sqlite:///dannys_diner.db\n",
      "Done.\n"
     ]
    },
    {
     "data": {
      "text/html": [
       "<table>\n",
       "    <tr>\n",
       "        <th>customer_id</th>\n",
       "        <th>order_date</th>\n",
       "        <th>product_name</th>\n",
       "    </tr>\n",
       "    <tr>\n",
       "        <td>A</td>\n",
       "        <td>2021-01-01</td>\n",
       "        <td>sushi</td>\n",
       "    </tr>\n",
       "    <tr>\n",
       "        <td>B</td>\n",
       "        <td>2021-01-01</td>\n",
       "        <td>curry</td>\n",
       "    </tr>\n",
       "    <tr>\n",
       "        <td>C</td>\n",
       "        <td>2021-01-01</td>\n",
       "        <td>ramen</td>\n",
       "    </tr>\n",
       "</table>"
      ],
      "text/plain": [
       "[('A', '2021-01-01', 'sushi'),\n",
       " ('B', '2021-01-01', 'curry'),\n",
       " ('C', '2021-01-01', 'ramen')]"
      ]
     },
     "execution_count": 9,
     "metadata": {},
     "output_type": "execute_result"
    }
   ],
   "source": [
    "%%sql\n",
    "with first_order as (\n",
    "select s.customer_id, s.order_date, m.product_name\n",
    ", row_number() over (partition by s.customer_id order by s.order_date) Rank\n",
    "from sales s\n",
    "left join menu m\n",
    "on s.product_id = m.product_id\n",
    ") \n",
    "        \n",
    "select f.customer_id, f.order_date,f.product_name\n",
    "from first_order f\n",
    "where f.rank = 1;"
   ]
  },
  {
   "cell_type": "markdown",
   "id": "9d062afa",
   "metadata": {},
   "source": [
    "- `Sushi` was the first item purchased by Customer `A`\n",
    "- `Curry` was the first item purchased by Customer `B`\n",
    "- `Ramen` was the first item purchased by Customer `C`."
   ]
  },
  {
   "cell_type": "markdown",
   "id": "454aada3",
   "metadata": {},
   "source": [
    "#### Question 4 - What is the most purchased item on the menu and how many times was it purchased by all customers?"
   ]
  },
  {
   "cell_type": "code",
   "execution_count": 10,
   "id": "59a1aefb",
   "metadata": {},
   "outputs": [
    {
     "name": "stdout",
     "output_type": "stream",
     "text": [
      " * sqlite:///dannys_diner.db\n",
      "Done.\n"
     ]
    },
    {
     "data": {
      "text/html": [
       "<table>\n",
       "    <tr>\n",
       "        <th>product_name</th>\n",
       "        <th>count</th>\n",
       "    </tr>\n",
       "    <tr>\n",
       "        <td>ramen</td>\n",
       "        <td>8</td>\n",
       "    </tr>\n",
       "    <tr>\n",
       "        <td>curry</td>\n",
       "        <td>4</td>\n",
       "    </tr>\n",
       "    <tr>\n",
       "        <td>sushi</td>\n",
       "        <td>3</td>\n",
       "    </tr>\n",
       "</table>"
      ],
      "text/plain": [
       "[('ramen', 8), ('curry', 4), ('sushi', 3)]"
      ]
     },
     "execution_count": 10,
     "metadata": {},
     "output_type": "execute_result"
    }
   ],
   "source": [
    "%%sql\n",
    "select m.product_name, count(m.product_name) count\n",
    "from sales s\n",
    "left join menu m\n",
    "on s.product_id = m.product_id\n",
    "group by m.product_name\n",
    "order by count desc;"
   ]
  },
  {
   "cell_type": "markdown",
   "id": "87abb776",
   "metadata": {},
   "source": [
    "- `Ramen` is the most purchased item on the menu and it was purchased `8` times by all customers."
   ]
  },
  {
   "cell_type": "markdown",
   "id": "d2d05636",
   "metadata": {},
   "source": [
    "#### Question 5 - Which item was the most popular for each customer?"
   ]
  },
  {
   "cell_type": "code",
   "execution_count": 11,
   "id": "abfd84dd",
   "metadata": {},
   "outputs": [
    {
     "name": "stdout",
     "output_type": "stream",
     "text": [
      " * sqlite:///dannys_diner.db\n",
      "Done.\n"
     ]
    },
    {
     "data": {
      "text/html": [
       "<table>\n",
       "    <tr>\n",
       "        <th>customer_id</th>\n",
       "        <th>product_name</th>\n",
       "        <th>most_popular</th>\n",
       "    </tr>\n",
       "    <tr>\n",
       "        <td>A</td>\n",
       "        <td>ramen</td>\n",
       "        <td>3</td>\n",
       "    </tr>\n",
       "    <tr>\n",
       "        <td>B</td>\n",
       "        <td>curry</td>\n",
       "        <td>2</td>\n",
       "    </tr>\n",
       "    <tr>\n",
       "        <td>C</td>\n",
       "        <td>ramen</td>\n",
       "        <td>3</td>\n",
       "    </tr>\n",
       "</table>"
      ],
      "text/plain": [
       "[('A', 'ramen', 3), ('B', 'curry', 2), ('C', 'ramen', 3)]"
      ]
     },
     "execution_count": 11,
     "metadata": {},
     "output_type": "execute_result"
    }
   ],
   "source": [
    "%%sql\n",
    "select mp.customer_id, mp.product_name, max(mp.CountofOrders) most_popular\n",
    "from(\n",
    "select s.customer_id, m.product_name\n",
    ", count(m.product_name) over (partition by s.customer_id,m.product_name ) CountofOrders\n",
    "from sales s\n",
    "left join menu m\n",
    "on s.product_id = m.product_id\n",
    ") mp\n",
    "group by mp.customer_id;"
   ]
  },
  {
   "cell_type": "markdown",
   "id": "4a8b0732",
   "metadata": {},
   "source": [
    "- `Popularity` is defined by the most purchased item\n",
    "- `Ramen` is customer `A's` most popular item\n",
    "- Customer `B` on the other hand had the same count for all their purchased items. Thus, based on the first item they bought (`which is subjective`), `Curry` is their most popular item\n",
    "- `Ramen` is also customer `C's` most popular item."
   ]
  },
  {
   "cell_type": "markdown",
   "id": "4e9e6094",
   "metadata": {},
   "source": [
    "#### Question 6 - Which item was purchased first by the customer after they became a member?"
   ]
  },
  {
   "cell_type": "code",
   "execution_count": 12,
   "id": "c50b8784",
   "metadata": {},
   "outputs": [
    {
     "name": "stdout",
     "output_type": "stream",
     "text": [
      " * sqlite:///dannys_diner.db\n",
      "Done.\n"
     ]
    },
    {
     "data": {
      "text/html": [
       "<table>\n",
       "    <tr>\n",
       "        <th>customer_id</th>\n",
       "        <th>product_name</th>\n",
       "        <th>order_date</th>\n",
       "        <th>join_date</th>\n",
       "    </tr>\n",
       "    <tr>\n",
       "        <td>A</td>\n",
       "        <td>curry</td>\n",
       "        <td>2021-01-07</td>\n",
       "        <td>2021-01-07</td>\n",
       "    </tr>\n",
       "    <tr>\n",
       "        <td>B</td>\n",
       "        <td>sushi</td>\n",
       "        <td>2021-01-11</td>\n",
       "        <td>2021-01-09</td>\n",
       "    </tr>\n",
       "</table>"
      ],
      "text/plain": [
       "[('A', 'curry', '2021-01-07', '2021-01-07'),\n",
       " ('B', 'sushi', '2021-01-11', '2021-01-09')]"
      ]
     },
     "execution_count": 12,
     "metadata": {},
     "output_type": "execute_result"
    }
   ],
   "source": [
    "%%sql\n",
    "with mem as (\n",
    "select s.customer_id, m.product_name, s.order_date, m1.join_date\n",
    ", row_number() over (partition by s.customer_id order by s.order_date) Rank\n",
    "from sales s\n",
    "left join menu m\n",
    "on s.product_id = m.product_id\n",
    "inner join members m1\n",
    "on s.customer_id = m1.customer_id\n",
    "where s.order_date >= m1.join_date \n",
    ")\n",
    "\n",
    "select m.customer_id, m.product_name, m.order_date, m.join_date\n",
    "from mem m\n",
    "where Rank = 1;"
   ]
  },
  {
   "cell_type": "markdown",
   "id": "ee31aa14",
   "metadata": {},
   "source": [
    "- After they became a member, customer `A's` first order was `curry`\n",
    "- Customer `B's` first order after membership was `sushi`\n",
    "- Customer `C` on the other hand never became a member."
   ]
  },
  {
   "cell_type": "markdown",
   "id": "171a7da4",
   "metadata": {},
   "source": [
    "#### Question 7 - Which item was purchased just before the customer became a member?"
   ]
  },
  {
   "cell_type": "code",
   "execution_count": 13,
   "id": "728eb26a",
   "metadata": {},
   "outputs": [
    {
     "name": "stdout",
     "output_type": "stream",
     "text": [
      " * sqlite:///dannys_diner.db\n",
      "Done.\n"
     ]
    },
    {
     "data": {
      "text/html": [
       "<table>\n",
       "    <tr>\n",
       "        <th>customer_id</th>\n",
       "        <th>product_name</th>\n",
       "        <th>order_date</th>\n",
       "        <th>join_date</th>\n",
       "    </tr>\n",
       "    <tr>\n",
       "        <td>A</td>\n",
       "        <td>curry</td>\n",
       "        <td>2021-01-01</td>\n",
       "        <td>2021-01-07</td>\n",
       "    </tr>\n",
       "    <tr>\n",
       "        <td>B</td>\n",
       "        <td>sushi</td>\n",
       "        <td>2021-01-04</td>\n",
       "        <td>2021-01-09</td>\n",
       "    </tr>\n",
       "</table>"
      ],
      "text/plain": [
       "[('A', 'curry', '2021-01-01', '2021-01-07'),\n",
       " ('B', 'sushi', '2021-01-04', '2021-01-09')]"
      ]
     },
     "execution_count": 13,
     "metadata": {},
     "output_type": "execute_result"
    }
   ],
   "source": [
    "%%sql\n",
    "with mem as (\n",
    "select s.customer_id, m.product_name, s.order_date, m1.join_date\n",
    ", row_number() over (partition by s.customer_id order by s.order_date) Rank\n",
    "from sales s\n",
    "left join menu m\n",
    "on s.product_id = m.product_id\n",
    "inner join members m1\n",
    "on s.customer_id = m1.customer_id\n",
    "where s.order_date < m1.join_date \n",
    ")\n",
    "\n",
    "select m.customer_id, m.product_name, m.order_date, m.join_date\n",
    "from mem m\n",
    "group by m.customer_id\n",
    "having m.Rank = max(m.Rank);"
   ]
  },
  {
   "cell_type": "markdown",
   "id": "dc90ca16",
   "metadata": {},
   "source": [
    "- Customer `A` purchased `curry` just before they became a member\n",
    "- Customer `B` purchased `sushi` just before they became a member."
   ]
  },
  {
   "cell_type": "markdown",
   "id": "51e7b13f",
   "metadata": {},
   "source": [
    "#### Question 8 - What is the total items and amount spent for each member before they became a member?"
   ]
  },
  {
   "cell_type": "code",
   "execution_count": 14,
   "id": "d207e049",
   "metadata": {},
   "outputs": [
    {
     "name": "stdout",
     "output_type": "stream",
     "text": [
      " * sqlite:///dannys_diner.db\n",
      "Done.\n"
     ]
    },
    {
     "data": {
      "text/html": [
       "<table>\n",
       "    <tr>\n",
       "        <th>customer_id</th>\n",
       "        <th>total_items</th>\n",
       "        <th>total_spent</th>\n",
       "    </tr>\n",
       "    <tr>\n",
       "        <td>A</td>\n",
       "        <td>2</td>\n",
       "        <td>25.0</td>\n",
       "    </tr>\n",
       "    <tr>\n",
       "        <td>B</td>\n",
       "        <td>3</td>\n",
       "        <td>40.0</td>\n",
       "    </tr>\n",
       "</table>"
      ],
      "text/plain": [
       "[('A', 2, 25.0), ('B', 3, 40.0)]"
      ]
     },
     "execution_count": 14,
     "metadata": {},
     "output_type": "execute_result"
    }
   ],
   "source": [
    "%%sql\n",
    "with b4_mem as (\n",
    "select s.customer_id, m.product_name, m.price, s.order_date, m1.join_date\n",
    ", row_number() over (partition by s.customer_id order by s.order_date) Rank\n",
    "from sales s\n",
    "left join menu m\n",
    "on s.product_id = m.product_id\n",
    "inner join members m1\n",
    "on s.customer_id = m1.customer_id\n",
    "where s.order_date < m1.join_date \n",
    ")\n",
    "\n",
    "select m.customer_id, count(m.product_name) total_items, sum(m.price) total_spent\n",
    "from b4_mem m\n",
    "group by m.customer_id;"
   ]
  },
  {
   "cell_type": "markdown",
   "id": "ac448c44",
   "metadata": {},
   "source": [
    "- Prior to their membership, customer `A` purchased a total of `2` items and spent `$25` in total\n",
    "- Customer `B` purchased a total of `3` items and spent `$40` GBP in total prior to their membership\n",
    "- Customer `C` on the other hand never became a member and so they are excluded from the result."
   ]
  },
  {
   "cell_type": "markdown",
   "id": "2f2c8acf",
   "metadata": {},
   "source": [
    "#### Question 9 - If each $1 spent equates to 10 points and sushi has a 2x points multiplier - how many points would each customer have?"
   ]
  },
  {
   "cell_type": "code",
   "execution_count": 15,
   "id": "29d450ec",
   "metadata": {},
   "outputs": [
    {
     "name": "stdout",
     "output_type": "stream",
     "text": [
      " * sqlite:///dannys_diner.db\n",
      "Done.\n"
     ]
    },
    {
     "data": {
      "text/html": [
       "<table>\n",
       "    <tr>\n",
       "        <th>customer_id</th>\n",
       "        <th>points</th>\n",
       "    </tr>\n",
       "    <tr>\n",
       "        <td>A</td>\n",
       "        <td>86</td>\n",
       "    </tr>\n",
       "    <tr>\n",
       "        <td>B</td>\n",
       "        <td>94</td>\n",
       "    </tr>\n",
       "    <tr>\n",
       "        <td>C</td>\n",
       "        <td>36</td>\n",
       "    </tr>\n",
       "</table>"
      ],
      "text/plain": [
       "[('A', 86), ('B', 94), ('C', 36)]"
      ]
     },
     "execution_count": 15,
     "metadata": {},
     "output_type": "execute_result"
    }
   ],
   "source": [
    "%%sql\n",
    "select s.customer_id\n",
    ", cast(sum(case m.product_name when 'sushi' then m.price * 2 else m.price * 1 end) as int) points\n",
    "from sales s\n",
    "left join menu m\n",
    "on s.product_id = m.product_id\n",
    "group by s.customer_id;"
   ]
  },
  {
   "cell_type": "markdown",
   "id": "0f97dd28",
   "metadata": {},
   "source": [
    "- Customer `A` would have `86` points\n",
    "- Customer `B` would have `94` points \n",
    "- Customer `C` would have `36` points."
   ]
  },
  {
   "cell_type": "markdown",
   "id": "0d7ba0ad",
   "metadata": {},
   "source": [
    "#### Question 10 - In the first week after a customer joins the program (including their join date) they earn 2x points on all items, not just sushi - how many points do customer A and B have at the end of January?"
   ]
  },
  {
   "cell_type": "code",
   "execution_count": 16,
   "id": "f69d1166",
   "metadata": {},
   "outputs": [
    {
     "name": "stdout",
     "output_type": "stream",
     "text": [
      " * sqlite:///dannys_diner.db\n",
      "Done.\n"
     ]
    },
    {
     "data": {
      "text/html": [
       "<table>\n",
       "    <tr>\n",
       "        <th>customer_id</th>\n",
       "        <th>points</th>\n",
       "    </tr>\n",
       "    <tr>\n",
       "        <td>A</td>\n",
       "        <td>102</td>\n",
       "    </tr>\n",
       "    <tr>\n",
       "        <td>B</td>\n",
       "        <td>32</td>\n",
       "    </tr>\n",
       "</table>"
      ],
      "text/plain": [
       "[('A', 102), ('B', 32)]"
      ]
     },
     "execution_count": 16,
     "metadata": {},
     "output_type": "execute_result"
    }
   ],
   "source": [
    "%%sql\n",
    "select s.customer_id\n",
    ", cast(sum(case when s.order_date between date(m1.join_date) and date(m1.join_date,'+6 day') \n",
    "then m.price * 2 else m.price * 1 end) as int) points\n",
    "from sales s\n",
    "left join menu m\n",
    "on s.product_id = m.product_id\n",
    "inner join members m1\n",
    "on s.customer_id = m1.customer_id\n",
    "where s.order_date between m1.join_date and '2021-01-31'\n",
    "group by s.customer_id;"
   ]
  },
  {
   "cell_type": "markdown",
   "id": "44b79c21",
   "metadata": {},
   "source": [
    "- Customer `A` has `102` points\n",
    "- Customer `B` has `32` points."
   ]
  },
  {
   "cell_type": "markdown",
   "id": "858e64be",
   "metadata": {},
   "source": [
    "#### Bonus Question - Join All Things"
   ]
  },
  {
   "cell_type": "markdown",
   "id": "740dbe43",
   "metadata": {},
   "source": [
    "##### Create table holding all essential data to avoid joining tables"
   ]
  },
  {
   "cell_type": "code",
   "execution_count": 17,
   "id": "f3137686",
   "metadata": {},
   "outputs": [
    {
     "name": "stdout",
     "output_type": "stream",
     "text": [
      " * sqlite:///dannys_diner.db\n",
      "Done.\n"
     ]
    },
    {
     "data": {
      "text/plain": [
       "[]"
      ]
     },
     "execution_count": 17,
     "metadata": {},
     "output_type": "execute_result"
    }
   ],
   "source": [
    "%%sql\n",
    "CREATE VIEW full_danny\n",
    "AS\n",
    "\n",
    "select s.customer_id, s.order_date, m.product_name, m.price\n",
    ",case when s.order_date >= m1.join_date then 'Y' else 'N' end member\n",
    "from sales s\n",
    "left join menu m\n",
    "on s.product_id = m.product_id\n",
    "left join members m1\n",
    "on s.customer_id = m1.customer_id"
   ]
  },
  {
   "cell_type": "code",
   "execution_count": 18,
   "id": "de051ffc",
   "metadata": {},
   "outputs": [
    {
     "name": "stdout",
     "output_type": "stream",
     "text": [
      " * sqlite:///dannys_diner.db\n",
      "Done.\n"
     ]
    },
    {
     "data": {
      "text/html": [
       "<table>\n",
       "    <tr>\n",
       "        <th>customer_id</th>\n",
       "        <th>order_date</th>\n",
       "        <th>product_name</th>\n",
       "        <th>price</th>\n",
       "        <th>member</th>\n",
       "    </tr>\n",
       "    <tr>\n",
       "        <td>A</td>\n",
       "        <td>2021-01-01</td>\n",
       "        <td>sushi</td>\n",
       "        <td>10.0</td>\n",
       "        <td>N</td>\n",
       "    </tr>\n",
       "    <tr>\n",
       "        <td>A</td>\n",
       "        <td>2021-01-01</td>\n",
       "        <td>curry</td>\n",
       "        <td>15.0</td>\n",
       "        <td>N</td>\n",
       "    </tr>\n",
       "    <tr>\n",
       "        <td>A</td>\n",
       "        <td>2021-01-07</td>\n",
       "        <td>curry</td>\n",
       "        <td>15.0</td>\n",
       "        <td>Y</td>\n",
       "    </tr>\n",
       "    <tr>\n",
       "        <td>A</td>\n",
       "        <td>2021-01-10</td>\n",
       "        <td>ramen</td>\n",
       "        <td>12.0</td>\n",
       "        <td>Y</td>\n",
       "    </tr>\n",
       "    <tr>\n",
       "        <td>A</td>\n",
       "        <td>2021-01-11</td>\n",
       "        <td>ramen</td>\n",
       "        <td>12.0</td>\n",
       "        <td>Y</td>\n",
       "    </tr>\n",
       "    <tr>\n",
       "        <td>A</td>\n",
       "        <td>2021-01-11</td>\n",
       "        <td>ramen</td>\n",
       "        <td>12.0</td>\n",
       "        <td>Y</td>\n",
       "    </tr>\n",
       "    <tr>\n",
       "        <td>B</td>\n",
       "        <td>2021-01-01</td>\n",
       "        <td>curry</td>\n",
       "        <td>15.0</td>\n",
       "        <td>N</td>\n",
       "    </tr>\n",
       "    <tr>\n",
       "        <td>B</td>\n",
       "        <td>2021-01-02</td>\n",
       "        <td>curry</td>\n",
       "        <td>15.0</td>\n",
       "        <td>N</td>\n",
       "    </tr>\n",
       "    <tr>\n",
       "        <td>B</td>\n",
       "        <td>2021-01-04</td>\n",
       "        <td>sushi</td>\n",
       "        <td>10.0</td>\n",
       "        <td>N</td>\n",
       "    </tr>\n",
       "    <tr>\n",
       "        <td>B</td>\n",
       "        <td>2021-01-11</td>\n",
       "        <td>sushi</td>\n",
       "        <td>10.0</td>\n",
       "        <td>Y</td>\n",
       "    </tr>\n",
       "    <tr>\n",
       "        <td>B</td>\n",
       "        <td>2021-01-16</td>\n",
       "        <td>ramen</td>\n",
       "        <td>12.0</td>\n",
       "        <td>Y</td>\n",
       "    </tr>\n",
       "    <tr>\n",
       "        <td>B</td>\n",
       "        <td>2021-02-01</td>\n",
       "        <td>ramen</td>\n",
       "        <td>12.0</td>\n",
       "        <td>Y</td>\n",
       "    </tr>\n",
       "    <tr>\n",
       "        <td>C</td>\n",
       "        <td>2021-01-01</td>\n",
       "        <td>ramen</td>\n",
       "        <td>12.0</td>\n",
       "        <td>N</td>\n",
       "    </tr>\n",
       "    <tr>\n",
       "        <td>C</td>\n",
       "        <td>2021-01-01</td>\n",
       "        <td>ramen</td>\n",
       "        <td>12.0</td>\n",
       "        <td>N</td>\n",
       "    </tr>\n",
       "    <tr>\n",
       "        <td>C</td>\n",
       "        <td>2021-01-07</td>\n",
       "        <td>ramen</td>\n",
       "        <td>12.0</td>\n",
       "        <td>N</td>\n",
       "    </tr>\n",
       "</table>"
      ],
      "text/plain": [
       "[('A', '2021-01-01', 'sushi', 10.0, 'N'),\n",
       " ('A', '2021-01-01', 'curry', 15.0, 'N'),\n",
       " ('A', '2021-01-07', 'curry', 15.0, 'Y'),\n",
       " ('A', '2021-01-10', 'ramen', 12.0, 'Y'),\n",
       " ('A', '2021-01-11', 'ramen', 12.0, 'Y'),\n",
       " ('A', '2021-01-11', 'ramen', 12.0, 'Y'),\n",
       " ('B', '2021-01-01', 'curry', 15.0, 'N'),\n",
       " ('B', '2021-01-02', 'curry', 15.0, 'N'),\n",
       " ('B', '2021-01-04', 'sushi', 10.0, 'N'),\n",
       " ('B', '2021-01-11', 'sushi', 10.0, 'Y'),\n",
       " ('B', '2021-01-16', 'ramen', 12.0, 'Y'),\n",
       " ('B', '2021-02-01', 'ramen', 12.0, 'Y'),\n",
       " ('C', '2021-01-01', 'ramen', 12.0, 'N'),\n",
       " ('C', '2021-01-01', 'ramen', 12.0, 'N'),\n",
       " ('C', '2021-01-07', 'ramen', 12.0, 'N')]"
      ]
     },
     "execution_count": 18,
     "metadata": {},
     "output_type": "execute_result"
    }
   ],
   "source": [
    "%%sql\n",
    "select * \n",
    "from \n",
    "full_danny"
   ]
  },
  {
   "cell_type": "code",
   "execution_count": 19,
   "id": "10eebb5e",
   "metadata": {},
   "outputs": [
    {
     "name": "stdout",
     "output_type": "stream",
     "text": [
      " * sqlite:///dannys_diner.db\n",
      "Done.\n"
     ]
    },
    {
     "data": {
      "text/html": [
       "<table>\n",
       "    <tr>\n",
       "        <th>customer_id</th>\n",
       "        <th>order_date</th>\n",
       "        <th>product_name</th>\n",
       "        <th>price</th>\n",
       "        <th>member</th>\n",
       "        <th>ranking</th>\n",
       "    </tr>\n",
       "    <tr>\n",
       "        <td>A</td>\n",
       "        <td>2021-01-01</td>\n",
       "        <td>sushi</td>\n",
       "        <td>10.0</td>\n",
       "        <td>N</td>\n",
       "        <td>null</td>\n",
       "    </tr>\n",
       "    <tr>\n",
       "        <td>A</td>\n",
       "        <td>2021-01-01</td>\n",
       "        <td>curry</td>\n",
       "        <td>15.0</td>\n",
       "        <td>N</td>\n",
       "        <td>null</td>\n",
       "    </tr>\n",
       "    <tr>\n",
       "        <td>A</td>\n",
       "        <td>2021-01-07</td>\n",
       "        <td>curry</td>\n",
       "        <td>15.0</td>\n",
       "        <td>Y</td>\n",
       "        <td>1</td>\n",
       "    </tr>\n",
       "    <tr>\n",
       "        <td>A</td>\n",
       "        <td>2021-01-10</td>\n",
       "        <td>ramen</td>\n",
       "        <td>12.0</td>\n",
       "        <td>Y</td>\n",
       "        <td>2</td>\n",
       "    </tr>\n",
       "    <tr>\n",
       "        <td>A</td>\n",
       "        <td>2021-01-11</td>\n",
       "        <td>ramen</td>\n",
       "        <td>12.0</td>\n",
       "        <td>Y</td>\n",
       "        <td>3</td>\n",
       "    </tr>\n",
       "    <tr>\n",
       "        <td>A</td>\n",
       "        <td>2021-01-11</td>\n",
       "        <td>ramen</td>\n",
       "        <td>12.0</td>\n",
       "        <td>Y</td>\n",
       "        <td>3</td>\n",
       "    </tr>\n",
       "    <tr>\n",
       "        <td>B</td>\n",
       "        <td>2021-01-01</td>\n",
       "        <td>curry</td>\n",
       "        <td>15.0</td>\n",
       "        <td>N</td>\n",
       "        <td>null</td>\n",
       "    </tr>\n",
       "    <tr>\n",
       "        <td>B</td>\n",
       "        <td>2021-01-02</td>\n",
       "        <td>curry</td>\n",
       "        <td>15.0</td>\n",
       "        <td>N</td>\n",
       "        <td>null</td>\n",
       "    </tr>\n",
       "    <tr>\n",
       "        <td>B</td>\n",
       "        <td>2021-01-04</td>\n",
       "        <td>sushi</td>\n",
       "        <td>10.0</td>\n",
       "        <td>N</td>\n",
       "        <td>null</td>\n",
       "    </tr>\n",
       "    <tr>\n",
       "        <td>B</td>\n",
       "        <td>2021-01-11</td>\n",
       "        <td>sushi</td>\n",
       "        <td>10.0</td>\n",
       "        <td>Y</td>\n",
       "        <td>1</td>\n",
       "    </tr>\n",
       "    <tr>\n",
       "        <td>B</td>\n",
       "        <td>2021-01-16</td>\n",
       "        <td>ramen</td>\n",
       "        <td>12.0</td>\n",
       "        <td>Y</td>\n",
       "        <td>2</td>\n",
       "    </tr>\n",
       "    <tr>\n",
       "        <td>B</td>\n",
       "        <td>2021-02-01</td>\n",
       "        <td>ramen</td>\n",
       "        <td>12.0</td>\n",
       "        <td>Y</td>\n",
       "        <td>3</td>\n",
       "    </tr>\n",
       "    <tr>\n",
       "        <td>C</td>\n",
       "        <td>2021-01-01</td>\n",
       "        <td>ramen</td>\n",
       "        <td>12.0</td>\n",
       "        <td>N</td>\n",
       "        <td>null</td>\n",
       "    </tr>\n",
       "    <tr>\n",
       "        <td>C</td>\n",
       "        <td>2021-01-01</td>\n",
       "        <td>ramen</td>\n",
       "        <td>12.0</td>\n",
       "        <td>N</td>\n",
       "        <td>null</td>\n",
       "    </tr>\n",
       "    <tr>\n",
       "        <td>C</td>\n",
       "        <td>2021-01-07</td>\n",
       "        <td>ramen</td>\n",
       "        <td>12.0</td>\n",
       "        <td>N</td>\n",
       "        <td>null</td>\n",
       "    </tr>\n",
       "</table>"
      ],
      "text/plain": [
       "[('A', '2021-01-01', 'sushi', 10.0, 'N', 'null'),\n",
       " ('A', '2021-01-01', 'curry', 15.0, 'N', 'null'),\n",
       " ('A', '2021-01-07', 'curry', 15.0, 'Y', 1),\n",
       " ('A', '2021-01-10', 'ramen', 12.0, 'Y', 2),\n",
       " ('A', '2021-01-11', 'ramen', 12.0, 'Y', 3),\n",
       " ('A', '2021-01-11', 'ramen', 12.0, 'Y', 3),\n",
       " ('B', '2021-01-01', 'curry', 15.0, 'N', 'null'),\n",
       " ('B', '2021-01-02', 'curry', 15.0, 'N', 'null'),\n",
       " ('B', '2021-01-04', 'sushi', 10.0, 'N', 'null'),\n",
       " ('B', '2021-01-11', 'sushi', 10.0, 'Y', 1),\n",
       " ('B', '2021-01-16', 'ramen', 12.0, 'Y', 2),\n",
       " ('B', '2021-02-01', 'ramen', 12.0, 'Y', 3),\n",
       " ('C', '2021-01-01', 'ramen', 12.0, 'N', 'null'),\n",
       " ('C', '2021-01-01', 'ramen', 12.0, 'N', 'null'),\n",
       " ('C', '2021-01-07', 'ramen', 12.0, 'N', 'null')]"
      ]
     },
     "execution_count": 19,
     "metadata": {},
     "output_type": "execute_result"
    }
   ],
   "source": [
    "%%sql\n",
    "select *  \n",
    ", case when member = 'N' \n",
    "then 'null' else\n",
    "rank() over (partition by customer_id,member order by order_date asc) end ranking\n",
    "from \n",
    "full_danny"
   ]
  }
 ],
 "metadata": {
  "kernelspec": {
   "display_name": "Python 3 (ipykernel)",
   "language": "python",
   "name": "python3"
  },
  "language_info": {
   "codemirror_mode": {
    "name": "ipython",
    "version": 3
   },
   "file_extension": ".py",
   "mimetype": "text/x-python",
   "name": "python",
   "nbconvert_exporter": "python",
   "pygments_lexer": "ipython3",
   "version": "3.9.7"
  }
 },
 "nbformat": 4,
 "nbformat_minor": 5
}
